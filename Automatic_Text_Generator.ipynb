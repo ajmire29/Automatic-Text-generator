{
  "nbformat": 4,
  "nbformat_minor": 0,
  "metadata": {
    "colab": {
      "name": "Automatic Text Generator.ipynb",
      "provenance": [],
      "authorship_tag": "ABX9TyPF4NEeDhuqbQHyamqOKNXt",
      "include_colab_link": true
    },
    "kernelspec": {
      "name": "python3",
      "display_name": "Python 3"
    },
    "accelerator": "GPU"
  },
  "cells": [
    {
      "cell_type": "markdown",
      "metadata": {
        "id": "view-in-github",
        "colab_type": "text"
      },
      "source": [
        "<a href=\"https://colab.research.google.com/github/iamprathameshajmire/Text-Generator/blob/master/Automatic_Text_Generator.ipynb\" target=\"_parent\"><img src=\"https://colab.research.google.com/assets/colab-badge.svg\" alt=\"Open In Colab\"/></a>"
      ]
    },
    {
      "cell_type": "code",
      "metadata": {
        "id": "e8PiA0U5Cxzv",
        "colab_type": "code",
        "colab": {}
      },
      "source": [
        "from tensorflow.keras.preprocessing.sequence import pad_sequences\n",
        "from tensorflow.keras.layers import Embedding, LSTM, Dense, Dropout, Bidirectional\n",
        "from tensorflow.keras.preprocessing.text import Tokenizer\n",
        "from tensorflow.keras.models import Sequential\n",
        "from tensorflow.keras.optimizers import Adam\n",
        "from keras import regularizers\n",
        "import tensorflow.keras.utils as k_utils\n",
        "import numpy as np"
      ],
      "execution_count": 0,
      "outputs": []
    },
    {
      "cell_type": "code",
      "metadata": {
        "id": "xIl_7HgoDGqf",
        "colab_type": "code",
        "colab": {}
      },
      "source": [
        "tokenizer= Tokenizer()"
      ],
      "execution_count": 0,
      "outputs": []
    },
    {
      "cell_type": "code",
      "metadata": {
        "id": "4SvKB0sfDx9T",
        "colab_type": "code",
        "outputId": "617d1fc1-89a9-4013-c6ed-2a19fa437558",
        "colab": {
          "base_uri": "https://localhost:8080/",
          "height": 215
        }
      },
      "source": [
        "!wget --no-check-certificate \\\n",
        "    https://storage.googleapis.com/laurencemoroney-blog.appspot.com/sonnets.txt \\\n",
        "    -O /tmp/sonnets.txt"
      ],
      "execution_count": 0,
      "outputs": [
        {
          "output_type": "stream",
          "text": [
            "--2020-04-19 18:10:58--  https://storage.googleapis.com/laurencemoroney-blog.appspot.com/sonnets.txt\n",
            "Resolving storage.googleapis.com (storage.googleapis.com)... 172.217.7.144, 2607:f8b0:4004:815::2010\n",
            "Connecting to storage.googleapis.com (storage.googleapis.com)|172.217.7.144|:443... connected.\n",
            "HTTP request sent, awaiting response... 200 OK\n",
            "Length: 93578 (91K) [text/plain]\n",
            "Saving to: ‘/tmp/sonnets.txt’\n",
            "\n",
            "\r/tmp/sonnets.txt      0%[                    ]       0  --.-KB/s               \r/tmp/sonnets.txt    100%[===================>]  91.38K  --.-KB/s    in 0.001s  \n",
            "\n",
            "2020-04-19 18:10:58 (144 MB/s) - ‘/tmp/sonnets.txt’ saved [93578/93578]\n",
            "\n"
          ],
          "name": "stdout"
        }
      ]
    },
    {
      "cell_type": "code",
      "metadata": {
        "id": "VyI4IKqUD697",
        "colab_type": "code",
        "colab": {}
      },
      "source": [
        "data = open('/tmp/sonnets.txt').read()"
      ],
      "execution_count": 0,
      "outputs": []
    },
    {
      "cell_type": "code",
      "metadata": {
        "id": "_5euirBzEAFS",
        "colab_type": "code",
        "colab": {}
      },
      "source": [
        "corpus = data.lower().split('\\n')"
      ],
      "execution_count": 0,
      "outputs": []
    },
    {
      "cell_type": "code",
      "metadata": {
        "id": "a1uxZ5DmEGpY",
        "colab_type": "code",
        "colab": {}
      },
      "source": [
        "tokenizer.fit_on_texts(corpus)"
      ],
      "execution_count": 0,
      "outputs": []
    },
    {
      "cell_type": "code",
      "metadata": {
        "id": "THnaoyWJEKuw",
        "colab_type": "code",
        "colab": {}
      },
      "source": [
        "total_words = len(tokenizer.word_index) +1"
      ],
      "execution_count": 0,
      "outputs": []
    },
    {
      "cell_type": "code",
      "metadata": {
        "id": "scXhF69vEaVg",
        "colab_type": "code",
        "outputId": "83801078-28b7-4dd3-d7b0-eb722b3b8ad8",
        "colab": {
          "base_uri": "https://localhost:8080/",
          "height": 35
        }
      },
      "source": [
        "total_words"
      ],
      "execution_count": 0,
      "outputs": [
        {
          "output_type": "execute_result",
          "data": {
            "text/plain": [
              "3211"
            ]
          },
          "metadata": {
            "tags": []
          },
          "execution_count": 41
        }
      ]
    },
    {
      "cell_type": "code",
      "metadata": {
        "id": "0filJ5jvEbu_",
        "colab_type": "code",
        "colab": {}
      },
      "source": [
        "input_sequences = []\n",
        "for line in corpus:\n",
        "  token_list = tokenizer.texts_to_sequences([line])[0]\n",
        "  for i in range(1,len(token_list)):\n",
        "    n_gram_sequence = token_list[:i+1]\n",
        "    input_sequences.append(n_gram_sequence)"
      ],
      "execution_count": 0,
      "outputs": []
    },
    {
      "cell_type": "code",
      "metadata": {
        "id": "VsvsNChCHR-F",
        "colab_type": "code",
        "colab": {}
      },
      "source": [
        "max_length = max((len(x) for x in input_sequences))"
      ],
      "execution_count": 0,
      "outputs": []
    },
    {
      "cell_type": "code",
      "metadata": {
        "id": "3_-eRMn3LKSK",
        "colab_type": "code",
        "colab": {}
      },
      "source": [
        "input_sequences = np.array(pad_sequences(input_sequences,maxlen=max_length,padding='pre'))"
      ],
      "execution_count": 0,
      "outputs": []
    },
    {
      "cell_type": "code",
      "metadata": {
        "id": "R86pxcxdLcVa",
        "colab_type": "code",
        "outputId": "8988eb43-7a20-4950-e040-65282cc8d440",
        "colab": {
          "base_uri": "https://localhost:8080/",
          "height": 143
        }
      },
      "source": [
        "input_sequences"
      ],
      "execution_count": 0,
      "outputs": [
        {
          "output_type": "execute_result",
          "data": {
            "text/plain": [
              "array([[   0,    0,    0, ...,    0,   34,  417],\n",
              "       [   0,    0,    0, ...,   34,  417,  877],\n",
              "       [   0,    0,    0, ...,  417,  877,  166],\n",
              "       ...,\n",
              "       [   0,    0,    0, ...,  493,  493, 3210],\n",
              "       [   0,    0,    0, ...,  493, 3210,   15],\n",
              "       [   0,    0,    0, ..., 3210,   15,   14]], dtype=int32)"
            ]
          },
          "metadata": {
            "tags": []
          },
          "execution_count": 45
        }
      ]
    },
    {
      "cell_type": "code",
      "metadata": {
        "id": "8Sv8ylhGL2zp",
        "colab_type": "code",
        "colab": {}
      },
      "source": [
        "xs = input_sequences[:,:-1]\n",
        "labels = input_sequences[:,-1]\n",
        "ys = k_utils.to_categorical(labels,num_classes=total_words)"
      ],
      "execution_count": 0,
      "outputs": []
    },
    {
      "cell_type": "code",
      "metadata": {
        "id": "nTX9XCuXM5L5",
        "colab_type": "code",
        "outputId": "ce2b4a95-6efc-4f87-cd82-4380edd214fb",
        "colab": {
          "base_uri": "https://localhost:8080/",
          "height": 395
        }
      },
      "source": [
        "model = Sequential()\n",
        "model.add(Embedding(total_words,100,input_length=max_length-1))\n",
        "model.add(Bidirectional(LSTM(150,return_sequences=True)))\n",
        "model.add(Dropout(0.2))\n",
        "model.add(Bidirectional(LSTM(100)))\n",
        "model.add(Dense(total_words/2,activation='relu',kernel_regularizer=regularizers.l2(0.01)))\n",
        "model.add(Dense(total_words,activation='softmax'))\n",
        "model.compile(loss='categorical_crossentropy',optimizer='adam',metrics=['accuracy'])\n",
        "print(model.summary())"
      ],
      "execution_count": 0,
      "outputs": [
        {
          "output_type": "stream",
          "text": [
            "Model: \"sequential_4\"\n",
            "_________________________________________________________________\n",
            "Layer (type)                 Output Shape              Param #   \n",
            "=================================================================\n",
            "embedding_4 (Embedding)      (None, 10, 100)           321100    \n",
            "_________________________________________________________________\n",
            "bidirectional_8 (Bidirection (None, 10, 300)           301200    \n",
            "_________________________________________________________________\n",
            "dropout_4 (Dropout)          (None, 10, 300)           0         \n",
            "_________________________________________________________________\n",
            "bidirectional_9 (Bidirection (None, 200)               320800    \n",
            "_________________________________________________________________\n",
            "dense_8 (Dense)              (None, 1605)              322605    \n",
            "_________________________________________________________________\n",
            "dense_9 (Dense)              (None, 3211)              5156866   \n",
            "=================================================================\n",
            "Total params: 6,422,571\n",
            "Trainable params: 6,422,571\n",
            "Non-trainable params: 0\n",
            "_________________________________________________________________\n",
            "None\n"
          ],
          "name": "stdout"
        }
      ]
    },
    {
      "cell_type": "code",
      "metadata": {
        "id": "7PGj7klvQGpf",
        "colab_type": "code",
        "outputId": "60019e75-69b9-4a2b-fb3b-ea358289a17b",
        "colab": {
          "base_uri": "https://localhost:8080/",
          "height": 1000
        }
      },
      "source": [
        "history = model.fit(xs,\n",
        "                    ys,\n",
        "                    epochs=150,\n",
        "                    verbose=1)"
      ],
      "execution_count": 0,
      "outputs": [
        {
          "output_type": "stream",
          "text": [
            "Epoch 1/150\n",
            "484/484 [==============================] - 7s 14ms/step - loss: 6.9857 - accuracy: 0.0220\n",
            "Epoch 2/150\n",
            "484/484 [==============================] - 7s 14ms/step - loss: 6.5108 - accuracy: 0.0213\n",
            "Epoch 3/150\n",
            "484/484 [==============================] - 7s 14ms/step - loss: 6.4089 - accuracy: 0.0242\n",
            "Epoch 4/150\n",
            "484/484 [==============================] - 7s 14ms/step - loss: 6.2938 - accuracy: 0.0293\n",
            "Epoch 5/150\n",
            "484/484 [==============================] - 7s 14ms/step - loss: 6.1859 - accuracy: 0.0370\n",
            "Epoch 6/150\n",
            "484/484 [==============================] - 7s 14ms/step - loss: 6.0861 - accuracy: 0.0389\n",
            "Epoch 7/150\n",
            "484/484 [==============================] - 7s 14ms/step - loss: 5.9883 - accuracy: 0.0426\n",
            "Epoch 8/150\n",
            "484/484 [==============================] - 7s 14ms/step - loss: 5.8825 - accuracy: 0.0457\n",
            "Epoch 9/150\n",
            "484/484 [==============================] - 7s 14ms/step - loss: 5.7717 - accuracy: 0.0485\n",
            "Epoch 10/150\n",
            "484/484 [==============================] - 7s 15ms/step - loss: 5.6621 - accuracy: 0.0547\n",
            "Epoch 11/150\n",
            "484/484 [==============================] - 7s 15ms/step - loss: 5.5480 - accuracy: 0.0613\n",
            "Epoch 12/150\n",
            "484/484 [==============================] - 7s 15ms/step - loss: 5.4290 - accuracy: 0.0704\n",
            "Epoch 13/150\n",
            "484/484 [==============================] - 7s 15ms/step - loss: 5.3074 - accuracy: 0.0766\n",
            "Epoch 14/150\n",
            "484/484 [==============================] - 7s 15ms/step - loss: 5.1925 - accuracy: 0.0845\n",
            "Epoch 15/150\n",
            "484/484 [==============================] - 7s 15ms/step - loss: 5.0803 - accuracy: 0.0946\n",
            "Epoch 16/150\n",
            "484/484 [==============================] - 7s 15ms/step - loss: 4.9584 - accuracy: 0.1036\n",
            "Epoch 17/150\n",
            "484/484 [==============================] - 7s 15ms/step - loss: 4.8400 - accuracy: 0.1137\n",
            "Epoch 18/150\n",
            "484/484 [==============================] - 7s 15ms/step - loss: 4.7315 - accuracy: 0.1228\n",
            "Epoch 19/150\n",
            "484/484 [==============================] - 7s 15ms/step - loss: 4.6220 - accuracy: 0.1361\n",
            "Epoch 20/150\n",
            "484/484 [==============================] - 7s 15ms/step - loss: 4.5009 - accuracy: 0.1447\n",
            "Epoch 21/150\n",
            "484/484 [==============================] - 7s 15ms/step - loss: 4.3835 - accuracy: 0.1586\n",
            "Epoch 22/150\n",
            "484/484 [==============================] - 7s 15ms/step - loss: 4.2714 - accuracy: 0.1675\n",
            "Epoch 23/150\n",
            "484/484 [==============================] - 7s 14ms/step - loss: 4.1528 - accuracy: 0.1845\n",
            "Epoch 24/150\n",
            "484/484 [==============================] - 7s 15ms/step - loss: 4.0405 - accuracy: 0.1966\n",
            "Epoch 25/150\n",
            "484/484 [==============================] - 7s 15ms/step - loss: 3.9221 - accuracy: 0.2165\n",
            "Epoch 26/150\n",
            "484/484 [==============================] - 7s 15ms/step - loss: 3.8067 - accuracy: 0.2352\n",
            "Epoch 27/150\n",
            "484/484 [==============================] - 7s 15ms/step - loss: 3.7018 - accuracy: 0.2563\n",
            "Epoch 28/150\n",
            "484/484 [==============================] - 7s 15ms/step - loss: 3.5831 - accuracy: 0.2804\n",
            "Epoch 29/150\n",
            "484/484 [==============================] - 7s 15ms/step - loss: 3.4753 - accuracy: 0.3001\n",
            "Epoch 30/150\n",
            "484/484 [==============================] - 7s 15ms/step - loss: 3.3818 - accuracy: 0.3273\n",
            "Epoch 31/150\n",
            "484/484 [==============================] - 7s 15ms/step - loss: 3.2720 - accuracy: 0.3468\n",
            "Epoch 32/150\n",
            "484/484 [==============================] - 7s 15ms/step - loss: 3.1674 - accuracy: 0.3713\n",
            "Epoch 33/150\n",
            "484/484 [==============================] - 7s 15ms/step - loss: 3.0889 - accuracy: 0.3899\n",
            "Epoch 34/150\n",
            "484/484 [==============================] - 7s 15ms/step - loss: 3.0074 - accuracy: 0.4123\n",
            "Epoch 35/150\n",
            "484/484 [==============================] - 7s 15ms/step - loss: 2.9105 - accuracy: 0.4336\n",
            "Epoch 36/150\n",
            "484/484 [==============================] - 7s 15ms/step - loss: 2.8350 - accuracy: 0.4481\n",
            "Epoch 37/150\n",
            "484/484 [==============================] - 7s 15ms/step - loss: 2.7459 - accuracy: 0.4681\n",
            "Epoch 38/150\n",
            "484/484 [==============================] - 7s 15ms/step - loss: 2.6735 - accuracy: 0.4851\n",
            "Epoch 39/150\n",
            "484/484 [==============================] - 7s 15ms/step - loss: 2.6052 - accuracy: 0.5005\n",
            "Epoch 40/150\n",
            "484/484 [==============================] - 7s 15ms/step - loss: 2.5320 - accuracy: 0.5144\n",
            "Epoch 41/150\n",
            "484/484 [==============================] - 7s 15ms/step - loss: 2.4699 - accuracy: 0.5327\n",
            "Epoch 42/150\n",
            "484/484 [==============================] - 7s 15ms/step - loss: 2.4042 - accuracy: 0.5486\n",
            "Epoch 43/150\n",
            "484/484 [==============================] - 7s 15ms/step - loss: 2.3577 - accuracy: 0.5546\n",
            "Epoch 44/150\n",
            "484/484 [==============================] - 7s 15ms/step - loss: 2.2881 - accuracy: 0.5737\n",
            "Epoch 45/150\n",
            "484/484 [==============================] - 7s 15ms/step - loss: 2.2170 - accuracy: 0.5916\n",
            "Epoch 46/150\n",
            "484/484 [==============================] - 7s 15ms/step - loss: 2.1865 - accuracy: 0.5986\n",
            "Epoch 47/150\n",
            "484/484 [==============================] - 7s 15ms/step - loss: 2.1351 - accuracy: 0.6100\n",
            "Epoch 48/150\n",
            "484/484 [==============================] - 7s 15ms/step - loss: 2.0791 - accuracy: 0.6226\n",
            "Epoch 49/150\n",
            "484/484 [==============================] - 7s 15ms/step - loss: 2.0396 - accuracy: 0.6283\n",
            "Epoch 50/150\n",
            "484/484 [==============================] - 7s 15ms/step - loss: 1.9815 - accuracy: 0.6442\n",
            "Epoch 51/150\n",
            "484/484 [==============================] - 7s 15ms/step - loss: 1.9255 - accuracy: 0.6597\n",
            "Epoch 52/150\n",
            "484/484 [==============================] - 7s 15ms/step - loss: 1.8926 - accuracy: 0.6666\n",
            "Epoch 53/150\n",
            "484/484 [==============================] - 7s 15ms/step - loss: 1.8783 - accuracy: 0.6669\n",
            "Epoch 54/150\n",
            "484/484 [==============================] - 7s 15ms/step - loss: 1.8301 - accuracy: 0.6806\n",
            "Epoch 55/150\n",
            "484/484 [==============================] - 7s 15ms/step - loss: 1.7934 - accuracy: 0.6868\n",
            "Epoch 56/150\n",
            "484/484 [==============================] - 7s 15ms/step - loss: 1.7568 - accuracy: 0.6922\n",
            "Epoch 57/150\n",
            "484/484 [==============================] - 7s 15ms/step - loss: 1.7229 - accuracy: 0.6971\n",
            "Epoch 58/150\n",
            "484/484 [==============================] - 7s 15ms/step - loss: 1.6725 - accuracy: 0.7108\n",
            "Epoch 59/150\n",
            "484/484 [==============================] - 7s 15ms/step - loss: 1.6522 - accuracy: 0.7137\n",
            "Epoch 60/150\n",
            "484/484 [==============================] - 7s 15ms/step - loss: 1.6336 - accuracy: 0.7195\n",
            "Epoch 61/150\n",
            "484/484 [==============================] - 7s 15ms/step - loss: 1.5964 - accuracy: 0.7250\n",
            "Epoch 62/150\n",
            "484/484 [==============================] - 7s 15ms/step - loss: 1.5681 - accuracy: 0.7308\n",
            "Epoch 63/150\n",
            "484/484 [==============================] - 7s 15ms/step - loss: 1.5489 - accuracy: 0.7349\n",
            "Epoch 64/150\n",
            "484/484 [==============================] - 7s 15ms/step - loss: 1.5103 - accuracy: 0.7422\n",
            "Epoch 65/150\n",
            "484/484 [==============================] - 7s 15ms/step - loss: 1.4804 - accuracy: 0.7494\n",
            "Epoch 66/150\n",
            "484/484 [==============================] - 7s 15ms/step - loss: 1.4608 - accuracy: 0.7541\n",
            "Epoch 67/150\n",
            "484/484 [==============================] - 7s 15ms/step - loss: 1.4560 - accuracy: 0.7531\n",
            "Epoch 68/150\n",
            "484/484 [==============================] - 7s 14ms/step - loss: 1.4179 - accuracy: 0.7634\n",
            "Epoch 69/150\n",
            "484/484 [==============================] - 7s 15ms/step - loss: 1.4103 - accuracy: 0.7593\n",
            "Epoch 70/150\n",
            "484/484 [==============================] - 7s 15ms/step - loss: 1.3861 - accuracy: 0.7665\n",
            "Epoch 71/150\n",
            "484/484 [==============================] - 7s 15ms/step - loss: 1.3626 - accuracy: 0.7701\n",
            "Epoch 72/150\n",
            "484/484 [==============================] - 7s 15ms/step - loss: 1.3393 - accuracy: 0.7716\n",
            "Epoch 73/150\n",
            "484/484 [==============================] - 7s 15ms/step - loss: 1.3134 - accuracy: 0.7790\n",
            "Epoch 74/150\n",
            "484/484 [==============================] - 7s 15ms/step - loss: 1.3062 - accuracy: 0.7796\n",
            "Epoch 75/150\n",
            "484/484 [==============================] - 7s 15ms/step - loss: 1.2830 - accuracy: 0.7839\n",
            "Epoch 76/150\n",
            "484/484 [==============================] - 7s 15ms/step - loss: 1.2876 - accuracy: 0.7802\n",
            "Epoch 77/150\n",
            "484/484 [==============================] - 7s 15ms/step - loss: 1.2734 - accuracy: 0.7841\n",
            "Epoch 78/150\n",
            "484/484 [==============================] - 7s 15ms/step - loss: 1.2368 - accuracy: 0.7933\n",
            "Epoch 79/150\n",
            "484/484 [==============================] - 7s 15ms/step - loss: 1.2250 - accuracy: 0.7934\n",
            "Epoch 80/150\n",
            "484/484 [==============================] - 7s 14ms/step - loss: 1.2221 - accuracy: 0.7936\n",
            "Epoch 81/150\n",
            "484/484 [==============================] - 7s 14ms/step - loss: 1.2179 - accuracy: 0.7926\n",
            "Epoch 82/150\n",
            "484/484 [==============================] - 7s 15ms/step - loss: 1.1806 - accuracy: 0.7999\n",
            "Epoch 83/150\n",
            "484/484 [==============================] - 7s 15ms/step - loss: 1.1711 - accuracy: 0.7988\n",
            "Epoch 84/150\n",
            "484/484 [==============================] - 7s 15ms/step - loss: 1.1550 - accuracy: 0.8042\n",
            "Epoch 85/150\n",
            "484/484 [==============================] - 7s 14ms/step - loss: 1.1567 - accuracy: 0.8006\n",
            "Epoch 86/150\n",
            "484/484 [==============================] - 7s 14ms/step - loss: 1.1548 - accuracy: 0.8002\n",
            "Epoch 87/150\n",
            "484/484 [==============================] - 7s 15ms/step - loss: 1.1506 - accuracy: 0.7985\n",
            "Epoch 88/150\n",
            "484/484 [==============================] - 7s 15ms/step - loss: 1.1371 - accuracy: 0.8025\n",
            "Epoch 89/150\n",
            "484/484 [==============================] - 7s 15ms/step - loss: 1.1120 - accuracy: 0.8086\n",
            "Epoch 90/150\n",
            "484/484 [==============================] - 7s 14ms/step - loss: 1.1035 - accuracy: 0.8092\n",
            "Epoch 91/150\n",
            "484/484 [==============================] - 7s 15ms/step - loss: 1.0992 - accuracy: 0.8081\n",
            "Epoch 92/150\n",
            "484/484 [==============================] - 7s 15ms/step - loss: 1.0830 - accuracy: 0.8126\n",
            "Epoch 93/150\n",
            "484/484 [==============================] - 7s 15ms/step - loss: 1.0803 - accuracy: 0.8107\n",
            "Epoch 94/150\n",
            "484/484 [==============================] - 7s 15ms/step - loss: 1.0779 - accuracy: 0.8122\n",
            "Epoch 95/150\n",
            "484/484 [==============================] - 7s 14ms/step - loss: 1.0692 - accuracy: 0.8110\n",
            "Epoch 96/150\n",
            "484/484 [==============================] - 7s 14ms/step - loss: 1.0572 - accuracy: 0.8141\n",
            "Epoch 97/150\n",
            "484/484 [==============================] - 7s 15ms/step - loss: 1.0500 - accuracy: 0.8172\n",
            "Epoch 98/150\n",
            "484/484 [==============================] - 7s 15ms/step - loss: 1.0417 - accuracy: 0.8143\n",
            "Epoch 99/150\n",
            "484/484 [==============================] - 7s 15ms/step - loss: 1.0479 - accuracy: 0.8148\n",
            "Epoch 100/150\n",
            "484/484 [==============================] - 7s 14ms/step - loss: 1.0422 - accuracy: 0.8161\n",
            "Epoch 101/150\n",
            "484/484 [==============================] - 7s 14ms/step - loss: 1.0111 - accuracy: 0.8221\n",
            "Epoch 102/150\n",
            "484/484 [==============================] - 7s 14ms/step - loss: 1.0139 - accuracy: 0.8210\n",
            "Epoch 103/150\n",
            "484/484 [==============================] - 7s 14ms/step - loss: 1.0067 - accuracy: 0.8212\n",
            "Epoch 104/150\n",
            "484/484 [==============================] - 7s 14ms/step - loss: 0.9949 - accuracy: 0.8234\n",
            "Epoch 105/150\n",
            "484/484 [==============================] - 7s 14ms/step - loss: 0.9817 - accuracy: 0.8261\n",
            "Epoch 106/150\n",
            "484/484 [==============================] - 7s 14ms/step - loss: 0.9702 - accuracy: 0.8272\n",
            "Epoch 107/150\n",
            "484/484 [==============================] - 7s 14ms/step - loss: 0.9881 - accuracy: 0.8237\n",
            "Epoch 108/150\n",
            "484/484 [==============================] - 7s 14ms/step - loss: 1.0037 - accuracy: 0.8192\n",
            "Epoch 109/150\n",
            "484/484 [==============================] - 7s 14ms/step - loss: 0.9915 - accuracy: 0.8205\n",
            "Epoch 110/150\n",
            "484/484 [==============================] - 7s 15ms/step - loss: 0.9833 - accuracy: 0.8234\n",
            "Epoch 111/150\n",
            "484/484 [==============================] - 7s 15ms/step - loss: 0.9630 - accuracy: 0.8269\n",
            "Epoch 112/150\n",
            "484/484 [==============================] - 7s 15ms/step - loss: 0.9562 - accuracy: 0.8292\n",
            "Epoch 113/150\n",
            "484/484 [==============================] - 7s 14ms/step - loss: 0.9510 - accuracy: 0.8283\n",
            "Epoch 114/150\n",
            "484/484 [==============================] - 7s 14ms/step - loss: 0.9425 - accuracy: 0.8292\n",
            "Epoch 115/150\n",
            "484/484 [==============================] - 7s 15ms/step - loss: 0.9460 - accuracy: 0.8266\n",
            "Epoch 116/150\n",
            "484/484 [==============================] - 7s 15ms/step - loss: 0.9519 - accuracy: 0.8245\n",
            "Epoch 117/150\n",
            "484/484 [==============================] - 7s 15ms/step - loss: 0.9369 - accuracy: 0.8291\n",
            "Epoch 118/150\n",
            "484/484 [==============================] - 7s 15ms/step - loss: 0.9386 - accuracy: 0.8253\n",
            "Epoch 119/150\n",
            "484/484 [==============================] - 7s 14ms/step - loss: 0.9323 - accuracy: 0.8285\n",
            "Epoch 120/150\n",
            "484/484 [==============================] - 7s 14ms/step - loss: 0.9295 - accuracy: 0.8284\n",
            "Epoch 121/150\n",
            "484/484 [==============================] - 7s 14ms/step - loss: 0.9132 - accuracy: 0.8312\n",
            "Epoch 122/150\n",
            "484/484 [==============================] - 7s 15ms/step - loss: 0.9071 - accuracy: 0.8328\n",
            "Epoch 123/150\n",
            "484/484 [==============================] - 7s 14ms/step - loss: 0.9002 - accuracy: 0.8338\n",
            "Epoch 124/150\n",
            "484/484 [==============================] - 7s 14ms/step - loss: 0.8911 - accuracy: 0.8363\n",
            "Epoch 125/150\n",
            "484/484 [==============================] - 7s 14ms/step - loss: 0.8982 - accuracy: 0.8319\n",
            "Epoch 126/150\n",
            "484/484 [==============================] - 7s 14ms/step - loss: 0.9058 - accuracy: 0.8302\n",
            "Epoch 127/150\n",
            "484/484 [==============================] - 7s 14ms/step - loss: 0.9248 - accuracy: 0.8252\n",
            "Epoch 128/150\n",
            "484/484 [==============================] - 7s 14ms/step - loss: 0.9111 - accuracy: 0.8269\n",
            "Epoch 129/150\n",
            "484/484 [==============================] - 7s 14ms/step - loss: 0.8985 - accuracy: 0.8307\n",
            "Epoch 130/150\n",
            "484/484 [==============================] - 7s 14ms/step - loss: 0.8760 - accuracy: 0.8370\n",
            "Epoch 131/150\n",
            "484/484 [==============================] - 7s 14ms/step - loss: 0.8850 - accuracy: 0.8311\n",
            "Epoch 132/150\n",
            "484/484 [==============================] - 7s 14ms/step - loss: 0.8860 - accuracy: 0.8325\n",
            "Epoch 133/150\n",
            "484/484 [==============================] - 7s 14ms/step - loss: 0.8773 - accuracy: 0.8343\n",
            "Epoch 134/150\n",
            "484/484 [==============================] - 7s 15ms/step - loss: 0.8621 - accuracy: 0.8368\n",
            "Epoch 135/150\n",
            "484/484 [==============================] - 7s 14ms/step - loss: 0.8762 - accuracy: 0.8322\n",
            "Epoch 136/150\n",
            "484/484 [==============================] - 7s 14ms/step - loss: 0.8671 - accuracy: 0.8343\n",
            "Epoch 137/150\n",
            "484/484 [==============================] - 7s 14ms/step - loss: 0.8699 - accuracy: 0.8351\n",
            "Epoch 138/150\n",
            "484/484 [==============================] - 7s 14ms/step - loss: 0.8641 - accuracy: 0.8357\n",
            "Epoch 139/150\n",
            "484/484 [==============================] - 7s 14ms/step - loss: 0.8692 - accuracy: 0.8311\n",
            "Epoch 140/150\n",
            "484/484 [==============================] - 7s 14ms/step - loss: 0.8605 - accuracy: 0.8369\n",
            "Epoch 141/150\n",
            "484/484 [==============================] - 7s 14ms/step - loss: 0.8618 - accuracy: 0.8358\n",
            "Epoch 142/150\n",
            "484/484 [==============================] - 7s 14ms/step - loss: 0.8727 - accuracy: 0.8299\n",
            "Epoch 143/150\n",
            "484/484 [==============================] - 7s 14ms/step - loss: 0.8479 - accuracy: 0.8368\n",
            "Epoch 144/150\n",
            "484/484 [==============================] - 7s 14ms/step - loss: 0.8421 - accuracy: 0.8373\n",
            "Epoch 145/150\n",
            "484/484 [==============================] - 7s 14ms/step - loss: 0.8459 - accuracy: 0.8364\n",
            "Epoch 146/150\n",
            "484/484 [==============================] - 7s 14ms/step - loss: 0.8550 - accuracy: 0.8355\n",
            "Epoch 147/150\n",
            "484/484 [==============================] - 7s 14ms/step - loss: 0.8526 - accuracy: 0.8327\n",
            "Epoch 148/150\n",
            "484/484 [==============================] - 7s 14ms/step - loss: 0.8364 - accuracy: 0.8362\n",
            "Epoch 149/150\n",
            "484/484 [==============================] - 7s 14ms/step - loss: 0.8361 - accuracy: 0.8356\n",
            "Epoch 150/150\n",
            "484/484 [==============================] - 7s 14ms/step - loss: 0.8393 - accuracy: 0.8362\n"
          ],
          "name": "stdout"
        }
      ]
    },
    {
      "cell_type": "code",
      "metadata": {
        "id": "heIO8BE_QpWC",
        "colab_type": "code",
        "outputId": "cbac1b39-9f81-49db-9a6b-56c828a81830",
        "colab": {
          "base_uri": "https://localhost:8080/",
          "height": 545
        }
      },
      "source": [
        "import matplotlib.pyplot as plt\n",
        "acc = history.history['accuracy']\n",
        "loss = history.history['loss']\n",
        "\n",
        "epochs = range(len(acc))\n",
        "\n",
        "plt.plot(epochs, acc, 'b', label='Training accuracy')\n",
        "plt.title('Training accuracy')\n",
        "\n",
        "plt.figure()\n",
        "\n",
        "plt.plot(epochs, loss, 'b', label='Training Loss')\n",
        "plt.title('Training loss')\n",
        "plt.legend()\n",
        "\n",
        "plt.show()"
      ],
      "execution_count": 0,
      "outputs": [
        {
          "output_type": "display_data",
          "data": {
            "image/png": "[encoded data removed]",
            "text/plain": [
              "<Figure size 432x288 with 1 Axes>"
            ]
          },
          "metadata": {
            "tags": [],
            "needs_background": "light"
          }
        },
        {
          "output_type": "display_data",
          "data": {
            "image/png": "[encoded data removed]",
            "text/plain": [
              "<Figure size 432x288 with 1 Axes>"
            ]
          },
          "metadata": {
            "tags": [],
            "needs_background": "light"
          }
        }
      ]
    },
    {
      "cell_type": "code",
      "metadata": {
        "id": "_1-RbkpdpQoM",
        "colab_type": "code",
        "outputId": "7769d223-a843-4d55-835c-2dd7f75c83e0",
        "colab": {
          "base_uri": "https://localhost:8080/",
          "height": 35
        }
      },
      "source": [
        "seed_text = \"where did you sleep last night\"\n",
        "next_words = 10\n",
        "  \n",
        "for _ in range(next_words):\n",
        "\ttoken_list = tokenizer.texts_to_sequences([seed_text])[0]\n",
        "\ttoken_list = pad_sequences([token_list], maxlen=max_length-1, padding='pre')\n",
        "\tpredicted = model.predict_classes(token_list, verbose=0)\n",
        "\toutput_word = \"\"\n",
        "\tfor word, index in tokenizer.word_index.items():\n",
        "\t\tif index == predicted:\n",
        "\t\t\toutput_word = word\n",
        "\t\t\tbreak\n",
        "\tseed_text += \" \" + output_word\n",
        "print(seed_text)"
      ],
      "execution_count": 0,
      "outputs": [
        {
          "output_type": "stream",
          "text": [
            "where did you sleep last night for love doth groan of none false lie on true\n"
          ],
          "name": "stdout"
        }
      ]
    },
    {
      "cell_type": "code",
      "metadata": {
        "id": "mLh0amp-wiX0",
        "colab_type": "code",
        "colab": {}
      },
      "source": [
        ""
      ],
      "execution_count": 0,
      "outputs": []
    }
  ]
}